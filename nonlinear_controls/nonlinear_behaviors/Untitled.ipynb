{
 "cells": [
  {
   "cell_type": "code",
   "execution_count": null,
   "metadata": {},
   "outputs": [],
   "source": [
    "using Plots\n",
    "p = plot([sin,cos], 0, π, size=(300,300))\n",
    "scatter!([0], [sin,cos])\n",
    "@gif for i in 0:0.1:π\n",
    "    p[3] = [i], [sin(i)]\n",
    "    p[4] = [i], [cos(i)]\n",
    "end\n"
   ]
  }
 ],
 "metadata": {
  "kernelspec": {
   "display_name": "Julia 0.6.2",
   "language": "julia",
   "name": "julia-0.6"
  }
 },
 "nbformat": 4,
 "nbformat_minor": 2
}
