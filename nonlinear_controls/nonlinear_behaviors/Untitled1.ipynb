{
 "cells": [
  {
   "cell_type": "code",
   "execution_count": 6,
   "metadata": {},
   "outputs": [
    {
     "name": "stderr",
     "output_type": "stream",
     "text": [
      "WARNING: using PyPlot.plot in module Main conflicts with an existing identifier.\n"
     ]
    }
   ],
   "source": [
    "using PyPlot\n",
    "using PyCall\n",
    "@pyimport matplotlib.animation as anim"
   ]
  },
  {
   "cell_type": "code",
   "execution_count": 8,
   "metadata": {},
   "outputs": [
    {
     "data": {
      "image/png": "[encoded data removed]",
      "text/plain": [
       "PyPlot.Figure(PyObject <matplotlib.figure.Figure object at 0x7fcfd37186a0>)"
      ]
     },
     "metadata": {},
     "output_type": "display_data"
    }
   ],
   "source": [
    "#Construct Figure and Plot Data\n",
    "fig = figure(\"MyFigure\",figsize=(10,10))\n",
    "ax = axes(xlim = (0,10),ylim=(0,10))\n",
    "global line1 = ax[:plot]([],[],\"r-\")[1]\n",
    "global line2 = ax[:plot]([],[],\"g-\")[1]\n",
    "global line3 = ax[:plot]([],[],\"b-\")[1]\n",
    "\n",
    "display(fig)"
   ]
  },
  {
   "cell_type": "code",
   "execution_count": 9,
   "metadata": {},
   "outputs": [
    {
     "data": {
      "text/plain": [
       "init (generic function with 1 method)"
      ]
     },
     "execution_count": 9,
     "metadata": {},
     "output_type": "execute_result"
    }
   ],
   "source": [
    "# Define the init function, which draws the first frame (empty, in this case)\n",
    "function init()\n",
    "    global line1\n",
    "    global line2\n",
    "    global line3\n",
    "    line1[:set_data]([],[])\n",
    "    line2[:set_data]([],[])\n",
    "    line3[:set_data]([],[])\n",
    "    return (line1,line2,line3,Union{})  # Union{} is the new word for None\n",
    "end\n",
    "\n"
   ]
  },
  {
   "cell_type": "code",
   "execution_count": 10,
   "metadata": {},
   "outputs": [
    {
     "data": {
      "text/plain": [
       "animate (generic function with 1 method)"
      ]
     },
     "execution_count": 10,
     "metadata": {},
     "output_type": "execute_result"
    }
   ],
   "source": [
    "# animate draws the i-th frame, where i starts at i=0 as in Python\n",
    "function animate(i)\n",
    "    global line1\n",
    "    global line2\n",
    "    global line3\n",
    "    x = (0:i)/10.0\n",
    "    line1[:set_data](x,x)\n",
    "    line2[:set_data](1+x,x)\n",
    "    line3[:set_data](2+x,x)\n",
    "    return (line1,line2,line3,Union{})\n",
    "end"
   ]
  },
  {
   "cell_type": "code",
   "execution_count": 11,
   "metadata": {},
   "outputs": [
    {
     "data": {
      "text/plain": [
       "PyObject <matplotlib.animation.FuncAnimation object at 0x7fcfd38433c8>"
      ]
     },
     "execution_count": 11,
     "metadata": {},
     "output_type": "execute_result"
    }
   ],
   "source": [
    "myanim = anim.FuncAnimation(fig, animate, init_func=init, frames=100, interval=20)"
   ]
  },
  {
   "cell_type": "code",
   "execution_count": 14,
   "metadata": {},
   "outputs": [],
   "source": [
    "myanim[:save](\"3Lines.mp4\", bitrate=-1, extra_args=[\"-vcodec\", \"libx264\", \"-pix_fmt\", \"yuv420p\"])"
   ]
  },
  {
   "cell_type": "code",
   "execution_count": 17,
   "metadata": {},
   "outputs": [
    {
     "data": {
      "text/html": [
       "<video controls src=\"data:video/x-m4v;base64,\">"
      ]
     },
     "metadata": {},
     "output_type": "display_data"
    }
   ],
   "source": [
    "# Function for creating an embedded video given a filename\n",
    "function html_video(filename)\n",
    "    base64_video = base64encode(open(read, filename))\n",
    "\t\"\"\"<video controls src=\"data:video/x-m4v;base64,$base64_video\">\"\"\"\n",
    "end\n",
    "\n",
    "display(\"text/html\", html_video(\"3Lines.mp4\"))"
   ]
  },
  {
   "cell_type": "code",
   "execution_count": null,
   "metadata": {},
   "outputs": [],
   "source": []
  }
 ],
 "metadata": {
  "kernelspec": {
   "display_name": "Julia 0.5.2",
   "language": "julia",
   "name": "julia-0.5"
  },
  "language_info": {
   "file_extension": ".jl",
   "mimetype": "application/julia",
   "name": "julia",
   "version": "0.6.2"
  }
 },
 "nbformat": 4,
 "nbformat_minor": 2
}
